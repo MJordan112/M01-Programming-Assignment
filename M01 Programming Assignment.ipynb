{
 "cells": [
  {
   "cell_type": "code",
   "execution_count": null,
   "id": "de414da9",
   "metadata": {},
   "outputs": [],
   "source": [
    "# M01 Programming Assignment\n",
    "\t# author: Matthew Jordan\n",
    "\t# created: 1/23/23\n",
    "\t# program made from python textbook\n",
    "    \n",
    "    #3.1. Create a list calledyears_list, starting with the year of your birth, and each year thereafter until the year of your fifth birthday. For example, if you were born in 1980.the list would beyears_list = [1980, 1981, 1982, 1983, 1984, 1985]\n",
    "    years_list = ['2000','2001','2002','2003','2004','2005']\n",
    "    \n",
    "    #3.2. In which year in years_list was your third birthday? Remember, you were 0years of age for your first year\n",
    "    years_list[4]\n",
    "    \n",
    "    #3.3. In which year in years_list were you the oldest\n",
    "    max[years_list]\n",
    "    \n",
    "    #Make a list called things with these three strings as elements:\"mozzarella\",\"cinderella\" \"salmonella\".\n",
    "    things = list[\"mozzarella\",\"cinderella\",\"salmonella\"]\n",
    "    \n",
    "    #Capitalize the element in things that refers to a person and then print the list.Did it change the element in the list?\n",
    "    things[3].capitalize()\n",
    "    print things\n",
    "    \n",
    "    #3.6. Make the cheesy element ofthings all uppercase and then print the list\n",
    "    things[0] = things[0].upper()\n",
    "    print(things)\n"
   ]
  }
 ],
 "metadata": {
  "kernelspec": {
   "display_name": "Python 3 (ipykernel)",
   "language": "python",
   "name": "python3"
  },
  "language_info": {
   "codemirror_mode": {
    "name": "ipython",
    "version": 3
   },
   "file_extension": ".py",
   "mimetype": "text/x-python",
   "name": "python",
   "nbconvert_exporter": "python",
   "pygments_lexer": "ipython3",
   "version": "3.9.13"
  }
 },
 "nbformat": 4,
 "nbformat_minor": 5
}
